{
 "cells": [
  {
   "cell_type": "code",
   "execution_count": 168,
   "metadata": {
    "collapsed": false
   },
   "outputs": [
    {
     "name": "stdout",
     "output_type": "stream",
     "text": [
      "********** 可用的字体 **********\n",
      "YaHei Consolas Hybrid\n"
     ]
    }
   ],
   "source": [
    "from PIL import Image, ImageDraw, ImageFont\n",
    "from IPython.display import display\n",
    "import pandas as pd\n",
    "\n",
    "from matplotlib.font_manager import FontManager\n",
    "import subprocess\n",
    "\n",
    "fm = FontManager()\n",
    "mat_fonts = set(f.name for f in fm.ttflist)\n",
    "\n",
    "output = subprocess.check_output(\n",
    "    'fc-list :lang=zh -f \"%{family}\\n\"', shell=True)\n",
    "output = output.decode('utf-8')\n",
    "# print '*' * 10, '系统可用的中文字体', '*' * 10\n",
    "# print output\n",
    "zh_fonts = set(f.split(',', 1)[0] for f in output.split('\\n'))\n",
    "available = mat_fonts & zh_fonts\n",
    "\n",
    "print('*' * 10, '可用的字体', '*' * 10)\n",
    "for f in available:\n",
    "    print(f)"
   ]
  },
  {
   "cell_type": "code",
   "execution_count": 169,
   "metadata": {
    "collapsed": true
   },
   "outputs": [],
   "source": [
    "from pandas import Series,DataFrame\n",
    "import sys\n",
    "sys.path.append('/home/finance-datascience/CJJ/venv/lib/python3.5/site-packages')"
   ]
  },
  {
   "cell_type": "code",
   "execution_count": 170,
   "metadata": {
    "collapsed": false
   },
   "outputs": [],
   "source": [
    "n_col = 3\n",
    "n_row = 3\n",
    "\n",
    "card_w, card_h = 496, 700\n",
    "\n",
    "point_mapping = {\n",
    "    0.5:'0',\n",
    "    1:'1',\n",
    "    1.5:'2',\n",
    "    2:'3',    \n",
    "    3:'4',\n",
    "    4:'5',\n",
    "    5:'5',\n",
    "    6:'5'    \n",
    "}"
   ]
  },
  {
   "cell_type": "code",
   "execution_count": 171,
   "metadata": {
    "collapsed": false
   },
   "outputs": [],
   "source": [
    "def generate_loc_info(df, n_col, n_row):\n",
    "    df['i'] = range(len(df))\n",
    "    df['row'] = (df['i']/n_col).astype(int)\n",
    "    df['col'] = df['i'].mod(n_col).astype(int)\n",
    "    df['col_reverse'] = (n_col-1-df['col']).astype(int)\n",
    "    return df.set_index('i')\n",
    "\n",
    "def load_image(point, point_mapping):    \n",
    "    lv = point_mapping[point]\n",
    "    image = Image.open('lv{}.png'.format(lv))\n",
    "    image = image.resize((card_w, card_h))\n",
    "    return image\n",
    "\n",
    "def generate_canvas(card_w, card_h, n_col, n_row):\n",
    "    canvas_w, canvas_h = card_w*n_col, card_h*n_row\n",
    "\n",
    "    return Image.new('RGB', [canvas_w, canvas_h], color=(255, 255,255))\n",
    "\n",
    "def load_description(title, items, title_font = 40, item_font = 25, title_y = 80, item_y = 150, n_char = 30, left_margin = 60, line_span = 5):\n",
    "    img = Image.open(\"frame.jpg\",).resize((card_w, card_h))\n",
    "    draw = ImageDraw.Draw(img)\n",
    "\n",
    "    title_font = ImageFont.truetype('YaHei Consolas Hybrid 1.12 For Powerline.ttf', size= title_font)\n",
    "\n",
    "    title_width, title_height = title_font.getsize(title)\n",
    "\n",
    "    draw.text(((card_w-title_width)/2, title_y), title, font=title_font, fill=0)\n",
    "\n",
    "    item_font = ImageFont.truetype('YaHei Consolas Hybrid 1.12 For Powerline.ttf', size= item_font)\n",
    "\n",
    "    y_text = item_y\n",
    "    def draw_item(draw, item, y_text, n_char):\n",
    "        import textwrap\n",
    "        lines = textwrap.wrap(item, width=n_char)\n",
    "\n",
    "        for i, line in enumerate(lines):\n",
    "            if i>0:\n",
    "                line = '   '+line\n",
    "            width, height = item_font.getsize(line)\n",
    "            draw.text((left_margin, y_text), line, font=item_font, fill=0)\n",
    "            y_text += height\n",
    "\n",
    "        return y_text+line_span\n",
    "\n",
    "    for item in items:\n",
    "        y_text = draw_item(draw, item, y_text, n_char)\n",
    "        \n",
    "    return img\n"
   ]
  },
  {
   "cell_type": "code",
   "execution_count": 172,
   "metadata": {
    "collapsed": false,
    "scrolled": false
   },
   "outputs": [
    {
     "name": "stderr",
     "output_type": "stream",
     "text": [
      "/home/junjiecai/venv/lib/python3.5/site-packages/ipykernel/__main__.py:2: SettingWithCopyWarning: \n",
      "A value is trying to be set on a copy of a slice from a DataFrame.\n",
      "Try using .loc[row_indexer,col_indexer] = value instead\n",
      "\n",
      "See the caveats in the documentation: http://pandas.pydata.org/pandas-docs/stable/indexing.html#indexing-view-versus-copy\n",
      "  from ipykernel import kernelapp as app\n",
      "/home/junjiecai/venv/lib/python3.5/site-packages/ipykernel/__main__.py:3: SettingWithCopyWarning: \n",
      "A value is trying to be set on a copy of a slice from a DataFrame.\n",
      "Try using .loc[row_indexer,col_indexer] = value instead\n",
      "\n",
      "See the caveats in the documentation: http://pandas.pydata.org/pandas-docs/stable/indexing.html#indexing-view-versus-copy\n",
      "  app.launch_new_instance()\n",
      "/home/junjiecai/venv/lib/python3.5/site-packages/ipykernel/__main__.py:4: SettingWithCopyWarning: \n",
      "A value is trying to be set on a copy of a slice from a DataFrame.\n",
      "Try using .loc[row_indexer,col_indexer] = value instead\n",
      "\n",
      "See the caveats in the documentation: http://pandas.pydata.org/pandas-docs/stable/indexing.html#indexing-view-versus-copy\n",
      "/home/junjiecai/venv/lib/python3.5/site-packages/ipykernel/__main__.py:5: SettingWithCopyWarning: \n",
      "A value is trying to be set on a copy of a slice from a DataFrame.\n",
      "Try using .loc[row_indexer,col_indexer] = value instead\n",
      "\n",
      "See the caveats in the documentation: http://pandas.pydata.org/pandas-docs/stable/indexing.html#indexing-view-versus-copy\n"
     ]
    }
   ],
   "source": [
    "task_df = pd.read_excel('tasks.xlsx')\n",
    "task_df = task_df[task_df['printed'].isnull()]\n",
    "\n",
    "p = 0\n",
    "\n",
    "while True:\n",
    "    canvas_front = generate_canvas(card_w, card_h, n_col, n_row)\n",
    "    canvas_back = generate_canvas(card_w, card_h, n_col, n_row)    \n",
    "    loc_start = p*9\n",
    "    end_start = min((p+1)*9, len(task_df)-1)\n",
    "    \n",
    "    sub_task_df = task_df.iloc[loc_start:end_start]\n",
    "    sub_task_df = generate_loc_info(sub_task_df, n_col, n_row)    \n",
    "\n",
    "    for i, s in sub_task_df.iterrows():\n",
    "        row, col = int(s['row']), int(s['col'])\n",
    "\n",
    "        point = s['point']\n",
    "        image = load_image(point, point_mapping)\n",
    "        canvas_front.paste(image, [col*card_w, row*card_h, (col+1)*card_w, (row+1)*card_h])\n",
    "        \n",
    "    for i, s in sub_task_df.iterrows():\n",
    "        row, col = int(s['row']), int(s['col_reverse'])\n",
    "        title = s['title']\n",
    "\n",
    "        items = s['description'].split('\\n')\n",
    "        image = load_description(title, items)\n",
    "        canvas_back.paste(image, [col*card_w, row*card_h, (col+1)*card_w, (row+1)*card_h])    \n",
    "   \n",
    "    canvas_front.save('output/front_{}.png'.format(p))\n",
    "    canvas_back.save('output/back_{}.png'.format(p))    \n",
    "    \n",
    "    if p+9>=len(task_df):\n",
    "        break\n",
    "    \n",
    "    p+=1    "
   ]
  }
 ],
 "metadata": {
  "kernelspec": {
   "display_name": "Python 3",
   "language": "python",
   "name": "python3"
  },
  "language_info": {
   "codemirror_mode": {
    "name": "ipython",
    "version": 3
   },
   "file_extension": ".py",
   "mimetype": "text/x-python",
   "name": "python",
   "nbconvert_exporter": "python",
   "pygments_lexer": "ipython3",
   "version": "3.5.2"
  },
  "toc": {
   "colors": {
    "hover_highlight": "#DAA520",
    "running_highlight": "#FF0000",
    "selected_highlight": "#FFD700"
   },
   "moveMenuLeft": true,
   "nav_menu": {
    "height": "12px",
    "width": "252px"
   },
   "navigate_menu": true,
   "number_sections": true,
   "sideBar": true,
   "threshold": 4,
   "toc_cell": false,
   "toc_section_display": "block",
   "toc_window_display": false
  }
 },
 "nbformat": 4,
 "nbformat_minor": 2
}
